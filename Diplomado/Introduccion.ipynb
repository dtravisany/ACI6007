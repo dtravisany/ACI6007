{
 "cells": [
  {
   "cell_type": "markdown",
   "id": "5b14da96",
   "metadata": {},
   "source": [
    "# Tutorial de Python\n",
    "\n",
    "Nuestro primer jupyter notebook"
   ]
  },
  {
   "cell_type": "markdown",
   "id": "1ef771ca",
   "metadata": {},
   "source": [
    "## Tipos de datos en Python"
   ]
  },
  {
   "cell_type": "markdown",
   "id": "699b887c",
   "metadata": {},
   "source": [
    "#### Tipo Númerico"
   ]
  },
  {
   "cell_type": "code",
   "execution_count": 1,
   "id": "554ed3b7",
   "metadata": {},
   "outputs": [
    {
     "name": "stdout",
     "output_type": "stream",
     "text": [
      "15 <class 'int'>\n",
      "15.1 <class 'float'>\n"
     ]
    }
   ],
   "source": [
    "x=15\n",
    "print(x,type(x))\n",
    "y=15.1\n",
    "print(y,type(y))"
   ]
  },
  {
   "cell_type": "markdown",
   "id": "e9b86efd",
   "metadata": {},
   "source": [
    "Distinguimos 2 tipos númericos `int` y `float`"
   ]
  },
  {
   "cell_type": "code",
   "execution_count": 3,
   "id": "ed91adeb",
   "metadata": {},
   "outputs": [
    {
     "name": "stdout",
     "output_type": "stream",
     "text": [
      "21 <class 'int'>\n"
     ]
    }
   ],
   "source": [
    "y=21\n",
    "print(y,type(y))"
   ]
  },
  {
   "cell_type": "markdown",
   "id": "97aeb034",
   "metadata": {},
   "source": [
    "Como podemos ver en el ejemplo, la variable `y` cambia de forma dinámica su tipo a medida que le asignamos valores. Esto ocurre para cualquier variable."
   ]
  },
  {
   "cell_type": "markdown",
   "id": "4aea0b80",
   "metadata": {},
   "source": [
    "Sobre una casilla:  \n",
    "`esc` luego `a` genera una celda arriba de mi posición  \n",
    "`esc` luego `b` genera una celda abajo de mi posición  \n",
    "`esc` luego `dd` elimina la celda\n"
   ]
  },
  {
   "cell_type": "markdown",
   "id": "b0b90051",
   "metadata": {},
   "source": [
    "#### Operadores sobre datos númericos"
   ]
  },
  {
   "cell_type": "code",
   "execution_count": 4,
   "id": "4e48b961",
   "metadata": {},
   "outputs": [
    {
     "name": "stdout",
     "output_type": "stream",
     "text": [
      "36\n",
      "25\n",
      "210\n",
      "441\n",
      "3.75\n",
      "3\n"
     ]
    }
   ],
   "source": [
    "print(x+y)\n",
    "print(x+10)\n",
    "print(y*10)\n",
    "print(y**2)\n",
    "print(x/4)\n",
    "print(x//4)"
   ]
  },
  {
   "cell_type": "markdown",
   "id": "2edfd5d5",
   "metadata": {},
   "source": [
    "1. `+`: Suma\n",
    "2. `*`: Multiplicación\n",
    "3. `//`: División con resultado entero"
   ]
  },
  {
   "cell_type": "markdown",
   "id": "a6502829",
   "metadata": {},
   "source": [
    "### Tipo lógicas"
   ]
  },
  {
   "cell_type": "code",
   "execution_count": 5,
   "id": "0ab52a38",
   "metadata": {},
   "outputs": [
    {
     "name": "stdout",
     "output_type": "stream",
     "text": [
      "True <class 'bool'>\n"
     ]
    }
   ],
   "source": [
    "v=True\n",
    "f=False\n",
    "\n",
    "print(v,type(v))\n"
   ]
  },
  {
   "cell_type": "markdown",
   "id": "15d6ca37",
   "metadata": {},
   "source": [
    "### Operaciones con datos lógicos"
   ]
  },
  {
   "cell_type": "code",
   "execution_count": 6,
   "id": "757cb3b9",
   "metadata": {},
   "outputs": [
    {
     "name": "stdout",
     "output_type": "stream",
     "text": [
      "True\n",
      "False\n",
      "True\n"
     ]
    }
   ],
   "source": [
    "print(v or f)\n",
    "print(v and f)\n",
    "print(v and not f)"
   ]
  },
  {
   "cell_type": "markdown",
   "id": "88d5aac6",
   "metadata": {},
   "source": [
    "### Operaciones con resultados lógicos sobre variables numéricas"
   ]
  },
  {
   "cell_type": "code",
   "execution_count": 9,
   "id": "1d97d165",
   "metadata": {},
   "outputs": [
    {
     "name": "stdout",
     "output_type": "stream",
     "text": [
      "True True False True\n"
     ]
    }
   ],
   "source": [
    "print(x<y, x>10, x==0, x==15)"
   ]
  },
  {
   "cell_type": "code",
   "execution_count": 8,
   "id": "33bfb740",
   "metadata": {},
   "outputs": [
    {
     "name": "stdout",
     "output_type": "stream",
     "text": [
      "True\n"
     ]
    }
   ],
   "source": [
    "print(x!=10)"
   ]
  },
  {
   "cell_type": "markdown",
   "id": "3ddf56bc",
   "metadata": {},
   "source": [
    "# Tipos de Cadenas de Caracteres (STRINGS)\n",
    "\n",
    "\n",
    "Los strings corresponden a una cadena de caracteres, se escriben en comillas simples `'` o dobles `\"`.  \n",
    "  \n",
    "¿Por qué es útil escribir en comillas simples o dobles?"
   ]
  },
  {
   "cell_type": "code",
   "execution_count": 10,
   "id": "da3fffb1",
   "metadata": {},
   "outputs": [
    {
     "ename": "SyntaxError",
     "evalue": "invalid syntax (<ipython-input-10-b7d4e1e84870>, line 1)",
     "output_type": "error",
     "traceback": [
      "\u001b[0;36m  File \u001b[0;32m\"<ipython-input-10-b7d4e1e84870>\"\u001b[0;36m, line \u001b[0;32m1\u001b[0m\n\u001b[0;31m    frase=\"El alumno dijo: \"No sé programar\"\"\u001b[0m\n\u001b[0m                            ^\u001b[0m\n\u001b[0;31mSyntaxError\u001b[0m\u001b[0;31m:\u001b[0m invalid syntax\n"
     ]
    }
   ],
   "source": [
    "frase=\"El alumno dijo: \"No sé programar\"\""
   ]
  },
  {
   "cell_type": "code",
   "execution_count": 11,
   "id": "a8d70504",
   "metadata": {},
   "outputs": [],
   "source": [
    "frase='El alumno dijo: \"No sé programar\"'"
   ]
  },
  {
   "cell_type": "code",
   "execution_count": 12,
   "id": "fb7fa678",
   "metadata": {},
   "outputs": [
    {
     "name": "stdout",
     "output_type": "stream",
     "text": [
      "El alumno dijo: \"No sé programar\"\n"
     ]
    }
   ],
   "source": [
    "print(frase)"
   ]
  },
  {
   "cell_type": "code",
   "execution_count": 13,
   "id": "caf04342",
   "metadata": {},
   "outputs": [],
   "source": [
    "frase=\"El alumno dijo: 'No sé programar'\""
   ]
  },
  {
   "cell_type": "code",
   "execution_count": 14,
   "id": "64b3381f",
   "metadata": {},
   "outputs": [
    {
     "name": "stdout",
     "output_type": "stream",
     "text": [
      "El alumno dijo: 'No sé programar'\n"
     ]
    }
   ],
   "source": [
    "print(frase)"
   ]
  },
  {
   "cell_type": "markdown",
   "id": "137cebd4",
   "metadata": {},
   "source": [
    "### Operaciones con strings"
   ]
  },
  {
   "cell_type": "code",
   "execution_count": 15,
   "id": "402abe3b",
   "metadata": {},
   "outputs": [],
   "source": [
    "nombre=\"Nibaldo\"\n",
    "apellido=\"Quezada\""
   ]
  },
  {
   "cell_type": "code",
   "execution_count": 16,
   "id": "ed1574d9",
   "metadata": {},
   "outputs": [
    {
     "name": "stdout",
     "output_type": "stream",
     "text": [
      "NibaldoQuezada\n"
     ]
    }
   ],
   "source": [
    "print(nombre+apellido)"
   ]
  },
  {
   "cell_type": "code",
   "execution_count": 17,
   "id": "9581f941",
   "metadata": {},
   "outputs": [
    {
     "name": "stdout",
     "output_type": "stream",
     "text": [
      "Nibaldo Quezada\n"
     ]
    }
   ],
   "source": [
    "ncompleto=nombre+\" \"+apellido\n",
    "print(ncompleto)"
   ]
  },
  {
   "cell_type": "code",
   "execution_count": 18,
   "id": "7d9cedbf",
   "metadata": {},
   "outputs": [
    {
     "name": "stdout",
     "output_type": "stream",
     "text": [
      "NIBALDO QUEZADA\n"
     ]
    }
   ],
   "source": [
    "print(ncompleto.upper())"
   ]
  },
  {
   "cell_type": "code",
   "execution_count": 19,
   "id": "d057c6db",
   "metadata": {},
   "outputs": [
    {
     "name": "stdout",
     "output_type": "stream",
     "text": [
      "Nibaldo quezada\n"
     ]
    }
   ],
   "source": [
    "print(ncompleto.capitalize())"
   ]
  },
  {
   "cell_type": "code",
   "execution_count": 20,
   "id": "e2c742c5",
   "metadata": {},
   "outputs": [
    {
     "name": "stdout",
     "output_type": "stream",
     "text": [
      "nibaldo quezada\n"
     ]
    }
   ],
   "source": [
    "print(ncompleto.lower())"
   ]
  },
  {
   "cell_type": "code",
   "execution_count": 21,
   "id": "515f3553",
   "metadata": {},
   "outputs": [
    {
     "data": {
      "text/plain": [
       "15"
      ]
     },
     "execution_count": 21,
     "metadata": {},
     "output_type": "execute_result"
    }
   ],
   "source": [
    "len(ncompleto)"
   ]
  },
  {
   "cell_type": "markdown",
   "id": "6b3037aa",
   "metadata": {},
   "source": [
    "## Primera aproximación a estructuras de datos\n",
    "\n",
    "## Tipo Listas"
   ]
  },
  {
   "cell_type": "code",
   "execution_count": 23,
   "id": "0334233f",
   "metadata": {},
   "outputs": [
    {
     "name": "stdout",
     "output_type": "stream",
     "text": [
      "[1, 2, 3, 4, 5] <class 'list'>\n"
     ]
    }
   ],
   "source": [
    "l=[1,2,3,4,5]\n",
    "print(l,type(l))"
   ]
  },
  {
   "cell_type": "code",
   "execution_count": 24,
   "id": "e8cf7cb5",
   "metadata": {},
   "outputs": [
    {
     "data": {
      "text/plain": [
       "1"
      ]
     },
     "execution_count": 24,
     "metadata": {},
     "output_type": "execute_result"
    }
   ],
   "source": [
    "l[0]"
   ]
  },
  {
   "cell_type": "code",
   "execution_count": 25,
   "id": "c02c1621",
   "metadata": {},
   "outputs": [],
   "source": [
    "l2=[0,1,\"HOLA\",[2,3,4]]"
   ]
  },
  {
   "cell_type": "code",
   "execution_count": 26,
   "id": "fe848eaf",
   "metadata": {},
   "outputs": [
    {
     "name": "stdout",
     "output_type": "stream",
     "text": [
      "[0, 1, 'HOLA', [2, 3, 4]] <class 'list'>\n"
     ]
    }
   ],
   "source": [
    "print(l2,type(l2))"
   ]
  },
  {
   "cell_type": "code",
   "execution_count": 27,
   "id": "2b3be1d3",
   "metadata": {},
   "outputs": [
    {
     "data": {
      "text/plain": [
       "[2, 3, 4]"
      ]
     },
     "execution_count": 27,
     "metadata": {},
     "output_type": "execute_result"
    }
   ],
   "source": [
    "l2[3]"
   ]
  },
  {
   "cell_type": "code",
   "execution_count": 28,
   "id": "7e844fa0",
   "metadata": {},
   "outputs": [
    {
     "data": {
      "text/plain": [
       "3"
      ]
     },
     "execution_count": 28,
     "metadata": {},
     "output_type": "execute_result"
    }
   ],
   "source": [
    "l2[3][1]"
   ]
  },
  {
   "cell_type": "code",
   "execution_count": 30,
   "id": "5d1ad8d4",
   "metadata": {},
   "outputs": [
    {
     "name": "stdout",
     "output_type": "stream",
     "text": [
      "[[0, 1, 'HOLA', [2, 3, 4]], [1, 2, 3, 4, 5]]\n"
     ]
    }
   ],
   "source": [
    "l3=[l2,l]\n",
    "print(l3)"
   ]
  },
  {
   "cell_type": "code",
   "execution_count": 31,
   "id": "08938e7f",
   "metadata": {},
   "outputs": [
    {
     "name": "stdout",
     "output_type": "stream",
     "text": [
      "[[0, 1, 'HOLA', [2, 3, 4]], [1, 2, 3, 4, 5], [0, 1, 'HOLA', [2, 3, 4]]]\n"
     ]
    }
   ],
   "source": [
    "l3.append(l2)\n",
    "print(l3)"
   ]
  },
  {
   "cell_type": "code",
   "execution_count": 32,
   "id": "c26b62f0",
   "metadata": {},
   "outputs": [
    {
     "data": {
      "text/plain": [
       "[0, 1, 'HOLA', [2, 3, 4]]"
      ]
     },
     "execution_count": 32,
     "metadata": {},
     "output_type": "execute_result"
    }
   ],
   "source": [
    "l3.pop()"
   ]
  },
  {
   "cell_type": "code",
   "execution_count": 33,
   "id": "d3d55b76",
   "metadata": {},
   "outputs": [
    {
     "name": "stdout",
     "output_type": "stream",
     "text": [
      "[[0, 1, 'HOLA', [2, 3, 4]], [1, 2, 3, 4, 5]]\n"
     ]
    }
   ],
   "source": [
    "print(l3)"
   ]
  },
  {
   "cell_type": "code",
   "execution_count": 35,
   "id": "33a22745",
   "metadata": {},
   "outputs": [
    {
     "name": "stdout",
     "output_type": "stream",
     "text": [
      "['h', 'o', 'l', 'a']\n"
     ]
    }
   ],
   "source": [
    "hola=[\"h\",\"o\",\"l\",\"a\"]\n",
    "print(hola)"
   ]
  },
  {
   "cell_type": "code",
   "execution_count": 36,
   "id": "e907c1c2",
   "metadata": {},
   "outputs": [],
   "source": [
    "hola.insert(1,45)"
   ]
  },
  {
   "cell_type": "code",
   "execution_count": 37,
   "id": "2a17c06c",
   "metadata": {},
   "outputs": [
    {
     "name": "stdout",
     "output_type": "stream",
     "text": [
      "['h', 45, 'o', 'l', 'a']\n"
     ]
    }
   ],
   "source": [
    "print(hola)"
   ]
  },
  {
   "cell_type": "markdown",
   "id": "6b64844b",
   "metadata": {},
   "source": [
    "### Paquetes"
   ]
  },
  {
   "cell_type": "code",
   "execution_count": 38,
   "id": "8f5ed61a",
   "metadata": {},
   "outputs": [],
   "source": [
    "import math"
   ]
  },
  {
   "cell_type": "code",
   "execution_count": 40,
   "id": "09439945",
   "metadata": {},
   "outputs": [
    {
     "name": "stdout",
     "output_type": "stream",
     "text": [
      "13.0\n"
     ]
    }
   ],
   "source": [
    "a=5\n",
    "b=12\n",
    "c=math.sqrt(a**2+b**2)\n",
    "print(c)"
   ]
  },
  {
   "cell_type": "code",
   "execution_count": 41,
   "id": "bc3228c7",
   "metadata": {},
   "outputs": [],
   "source": [
    "from math import sqrt"
   ]
  },
  {
   "cell_type": "code",
   "execution_count": 42,
   "id": "1de04f99",
   "metadata": {},
   "outputs": [
    {
     "name": "stdout",
     "output_type": "stream",
     "text": [
      "13.0\n"
     ]
    }
   ],
   "source": [
    "a=5\n",
    "b=12\n",
    "c=sqrt(a**2+b**2)\n",
    "print(c)"
   ]
  },
  {
   "cell_type": "markdown",
   "id": "161b6e3a",
   "metadata": {},
   "source": [
    "## FUNCIONES"
   ]
  },
  {
   "cell_type": "code",
   "execution_count": 43,
   "id": "97b4c198",
   "metadata": {},
   "outputs": [],
   "source": [
    "def pitagoras(a,b):\n",
    "    from math import sqrt\n",
    "    h=sqrt(a**2+b**2)\n",
    "    return h"
   ]
  },
  {
   "cell_type": "code",
   "execution_count": 44,
   "id": "12f71f7c",
   "metadata": {},
   "outputs": [
    {
     "data": {
      "text/plain": [
       "13.0"
      ]
     },
     "execution_count": 44,
     "metadata": {},
     "output_type": "execute_result"
    }
   ],
   "source": [
    "pitagoras(5,12)"
   ]
  },
  {
   "cell_type": "code",
   "execution_count": 45,
   "id": "ce656f6f",
   "metadata": {},
   "outputs": [
    {
     "data": {
      "text/plain": [
       "5.0"
      ]
     },
     "execution_count": 45,
     "metadata": {},
     "output_type": "execute_result"
    }
   ],
   "source": [
    "pitagoras(3,4)"
   ]
  },
  {
   "cell_type": "code",
   "execution_count": 46,
   "id": "f6428ccf",
   "metadata": {},
   "outputs": [
    {
     "data": {
      "text/plain": [
       "18.0"
      ]
     },
     "execution_count": 46,
     "metadata": {},
     "output_type": "execute_result"
    }
   ],
   "source": [
    "pitagoras(5,12)+pitagoras(3,4)"
   ]
  },
  {
   "cell_type": "code",
   "execution_count": 47,
   "id": "b1c2c2a1",
   "metadata": {},
   "outputs": [
    {
     "data": {
      "text/plain": [
       "14.866068747318506"
      ]
     },
     "execution_count": 47,
     "metadata": {},
     "output_type": "execute_result"
    }
   ],
   "source": [
    "pitagoras(11,10)"
   ]
  },
  {
   "cell_type": "code",
   "execution_count": 48,
   "id": "4a3648b5",
   "metadata": {},
   "outputs": [
    {
     "data": {
      "text/plain": [
       "function"
      ]
     },
     "execution_count": 48,
     "metadata": {},
     "output_type": "execute_result"
    }
   ],
   "source": [
    "type(pitagoras)"
   ]
  },
  {
   "cell_type": "markdown",
   "id": "f9cfe46a",
   "metadata": {},
   "source": [
    "## Tipos de estructuras de datos Diccionarios (HASH)\n",
    "\n",
    "Un diccionario es muy parecido a una lista. La diferencia es que los elementos son indexados con una `clave` y un `valor` para esa `clave`. En las listas la `clave` es un entero que comienza en `0`. En un diccionario no hay orden, las `claves` pueden ser `strings`."
   ]
  },
  {
   "cell_type": "code",
   "execution_count": 49,
   "id": "5b8e40df",
   "metadata": {},
   "outputs": [],
   "source": [
    "d={\"Nombre\":\"Dante\", \"Apellido\":\"Travisany\",\"Rut\":12345678}"
   ]
  },
  {
   "cell_type": "code",
   "execution_count": 50,
   "id": "461eef41",
   "metadata": {},
   "outputs": [
    {
     "name": "stdout",
     "output_type": "stream",
     "text": [
      "{'Nombre': 'Dante', 'Apellido': 'Travisany', 'Rut': 12345678} <class 'dict'>\n"
     ]
    }
   ],
   "source": [
    "print(d,type(d))"
   ]
  },
  {
   "cell_type": "code",
   "execution_count": 51,
   "id": "7e917ecd",
   "metadata": {},
   "outputs": [
    {
     "data": {
      "text/plain": [
       "'Travisany'"
      ]
     },
     "execution_count": 51,
     "metadata": {},
     "output_type": "execute_result"
    }
   ],
   "source": [
    "d['Apellido']"
   ]
  },
  {
   "cell_type": "code",
   "execution_count": 52,
   "id": "3734d730",
   "metadata": {},
   "outputs": [
    {
     "data": {
      "text/plain": [
       "int"
      ]
     },
     "execution_count": 52,
     "metadata": {},
     "output_type": "execute_result"
    }
   ],
   "source": [
    "type(d[\"Rut\"])"
   ]
  },
  {
   "cell_type": "code",
   "execution_count": 53,
   "id": "5127a8d0",
   "metadata": {},
   "outputs": [],
   "source": [
    "dict_cachipun={'piedra':0,'papel':1,'tijera':2}\n",
    "list_cachipun=['piedra','papel','tijera']"
   ]
  },
  {
   "cell_type": "code",
   "execution_count": 54,
   "id": "660ef329",
   "metadata": {},
   "outputs": [
    {
     "data": {
      "text/plain": [
       "'piedra'"
      ]
     },
     "execution_count": 54,
     "metadata": {},
     "output_type": "execute_result"
    }
   ],
   "source": [
    "list_cachipun[0]"
   ]
  },
  {
   "cell_type": "code",
   "execution_count": 64,
   "id": "20fd4610",
   "metadata": {},
   "outputs": [
    {
     "data": {
      "text/plain": [
       "1"
      ]
     },
     "execution_count": 64,
     "metadata": {},
     "output_type": "execute_result"
    }
   ],
   "source": [
    "dict_cachipun['papel']"
   ]
  },
  {
   "cell_type": "markdown",
   "id": "5c3101d0",
   "metadata": {},
   "source": [
    "# Condiciones if-else\n",
    "\n",
    "La instruccción `if` permite elegir entre distintas alternativas a ejecutar.\n",
    "Por ejemplo, si quisieramos encontrar el valor máximo entre dos números `a` y `b`.\n",
    "Podríamos preguntarnos `si a>b` (`if a>b`)"
   ]
  },
  {
   "cell_type": "code",
   "execution_count": 56,
   "id": "5083a58b",
   "metadata": {},
   "outputs": [],
   "source": [
    "def mayor(a,b):\n",
    "    if a>b:\n",
    "        m=a\n",
    "    else:\n",
    "        m=b\n",
    "    return m"
   ]
  },
  {
   "cell_type": "code",
   "execution_count": 57,
   "id": "c2e02cbd",
   "metadata": {},
   "outputs": [
    {
     "data": {
      "text/plain": [
       "6"
      ]
     },
     "execution_count": 57,
     "metadata": {},
     "output_type": "execute_result"
    }
   ],
   "source": [
    "mayor(6,2)"
   ]
  },
  {
   "cell_type": "code",
   "execution_count": 59,
   "id": "69b74917",
   "metadata": {},
   "outputs": [
    {
     "data": {
      "text/plain": [
       "2"
      ]
     },
     "execution_count": 59,
     "metadata": {},
     "output_type": "execute_result"
    }
   ],
   "source": [
    "mayor(1,2)"
   ]
  },
  {
   "cell_type": "code",
   "execution_count": 60,
   "id": "e6e7a7c0",
   "metadata": {},
   "outputs": [
    {
     "data": {
      "text/plain": [
       "2"
      ]
     },
     "execution_count": 60,
     "metadata": {},
     "output_type": "execute_result"
    }
   ],
   "source": [
    "mayor(2,2)"
   ]
  },
  {
   "cell_type": "code",
   "execution_count": 61,
   "id": "5a8811c8",
   "metadata": {},
   "outputs": [
    {
     "data": {
      "text/plain": [
       "1.1"
      ]
     },
     "execution_count": 61,
     "metadata": {},
     "output_type": "execute_result"
    }
   ],
   "source": [
    "mayor(1.1,1)"
   ]
  },
  {
   "cell_type": "markdown",
   "id": "ba536250",
   "metadata": {},
   "source": [
    "Vamos a realizar una función para jugar contra el computador, piedra, papel o tijera"
   ]
  },
  {
   "cell_type": "code",
   "execution_count": 62,
   "id": "360c9f98",
   "metadata": {},
   "outputs": [],
   "source": [
    "def cachipun():\n",
    "    from random import randint\n",
    "    computador=randint(0,2)\n",
    "    player=dict_cachipun[input(\"¿piedra, papel o tijera?\")] #\n",
    "    if computador==player: #1==2 No se cumple\n",
    "        resultado=\"EMPATE\"\n",
    "    else:\n",
    "        if(computador+1)%3==player: # 1+1=2 -> 2%3 -> 2 == 2? 2/3 = 0 me sobra (%) 2\n",
    "            resultado=\"Gana el Jugador\"\n",
    "        else:\n",
    "            resultado=\"Gana el computador\" # \n",
    "    print(\"Jugaste:\",list_cachipun[player])\n",
    "    print(\"Computador:\",list_cachipun[computador])\n",
    "    print(\"Resultado:\",resultado)"
   ]
  },
  {
   "cell_type": "code",
   "execution_count": 63,
   "id": "8ca339ec",
   "metadata": {},
   "outputs": [
    {
     "name": "stdout",
     "output_type": "stream",
     "text": [
      "¿piedra, papel o tijera?papel\n",
      "Jugaste: papel\n",
      "Computador: tijera\n",
      "Resultado: Gana el computador\n"
     ]
    }
   ],
   "source": [
    "cachipun()"
   ]
  },
  {
   "cell_type": "markdown",
   "id": "609dd6fd",
   "metadata": {},
   "source": [
    "### Instrucciones iterativas (WHILE)"
   ]
  },
  {
   "cell_type": "markdown",
   "id": "251450fb",
   "metadata": {},
   "source": [
    "Supongamos que queremos jugar varias partidas de cachipun, Con el ciclo `while` podemos ejecutar instrucciones o funciones mientras se cumpla alguna `condición`"
   ]
  },
  {
   "cell_type": "code",
   "execution_count": 65,
   "id": "02175d09",
   "metadata": {},
   "outputs": [
    {
     "name": "stdout",
     "output_type": "stream",
     "text": [
      "¿piedra, papel o tijera?tijera\n",
      "Jugaste: tijera\n",
      "Computador: tijera\n",
      "Resultado: EMPATE\n",
      "Seguimos?si\n",
      "¿piedra, papel o tijera?papel\n",
      "Jugaste: papel\n",
      "Computador: papel\n",
      "Resultado: EMPATE\n",
      "Seguimos?si\n",
      "¿piedra, papel o tijera?piedra\n",
      "Jugaste: piedra\n",
      "Computador: papel\n",
      "Resultado: Gana el computador\n",
      "Seguimos?no\n"
     ]
    }
   ],
   "source": [
    "jugar={'si':1,'no':0}\n",
    "continuar=1\n",
    "while(continuar==1):\n",
    "    cachipun()\n",
    "    continuar=int(jugar[input(\"Seguimos?\")])"
   ]
  },
  {
   "cell_type": "code",
   "execution_count": 68,
   "id": "d1c98be8",
   "metadata": {},
   "outputs": [
    {
     "name": "stdout",
     "output_type": "stream",
     "text": [
      "¿piedra, papel o tijera?tijera\n",
      "Jugaste: tijera\n",
      "Computador: tijera\n",
      "Resultado: EMPATE\n",
      "Seguimos?1\n"
     ]
    },
    {
     "ename": "KeyError",
     "evalue": "'1'",
     "output_type": "error",
     "traceback": [
      "\u001b[0;31m-------------------------------------------------------------------------\u001b[0m",
      "\u001b[0;31mKeyError\u001b[0m                                Traceback (most recent call last)",
      "\u001b[0;32m<ipython-input-68-3333e5cb037e>\u001b[0m in \u001b[0;36m<module>\u001b[0;34m\u001b[0m\n\u001b[1;32m      3\u001b[0m \u001b[0;32mwhile\u001b[0m\u001b[0;34m(\u001b[0m\u001b[0mcontinuar\u001b[0m\u001b[0;34m==\u001b[0m\u001b[0;36m1\u001b[0m\u001b[0;34m)\u001b[0m\u001b[0;34m:\u001b[0m\u001b[0;34m\u001b[0m\u001b[0;34m\u001b[0m\u001b[0m\n\u001b[1;32m      4\u001b[0m     \u001b[0mcachipun\u001b[0m\u001b[0;34m(\u001b[0m\u001b[0;34m)\u001b[0m\u001b[0;34m\u001b[0m\u001b[0;34m\u001b[0m\u001b[0m\n\u001b[0;32m----> 5\u001b[0;31m     \u001b[0mcontinuar\u001b[0m\u001b[0;34m=\u001b[0m\u001b[0mint\u001b[0m\u001b[0;34m(\u001b[0m\u001b[0mjugar\u001b[0m\u001b[0;34m[\u001b[0m\u001b[0minput\u001b[0m\u001b[0;34m(\u001b[0m\u001b[0;34m\"Seguimos?\"\u001b[0m\u001b[0;34m)\u001b[0m\u001b[0;34m]\u001b[0m\u001b[0;34m)\u001b[0m\u001b[0;34m\u001b[0m\u001b[0;34m\u001b[0m\u001b[0m\n\u001b[0m",
      "\u001b[0;31mKeyError\u001b[0m: '1'"
     ]
    }
   ],
   "source": [
    "jugar={'si':1,'no':0}\n",
    "continuar=1\n",
    "while(continuar==1):\n",
    "    cachipun()\n",
    "    continuar=int(jugar[input(\"Seguimos?\")])"
   ]
  },
  {
   "cell_type": "code",
   "execution_count": 69,
   "id": "f1bbc9a8",
   "metadata": {},
   "outputs": [
    {
     "name": "stdout",
     "output_type": "stream",
     "text": [
      "¿piedra, papel o tijera?tijera\n",
      "Jugaste: tijera\n",
      "Computador: papel\n",
      "Resultado: Gana el Jugador\n",
      "Seguimos?kjasjdasjkdsakjd\n",
      "Respuesta incorrecta, después jugamos\n"
     ]
    }
   ],
   "source": [
    "jugar={'si':1,'no':0}\n",
    "continuar=1\n",
    "while(continuar==1):\n",
    "    cachipun()\n",
    "    try:\n",
    "        continuar=int(jugar[input(\"Seguimos?\")])\n",
    "    except(KeyError):\n",
    "        print(\"Respuesta incorrecta, después jugamos\")\n",
    "        break"
   ]
  },
  {
   "cell_type": "code",
   "execution_count": 70,
   "id": "9ca9dcfb",
   "metadata": {},
   "outputs": [],
   "source": [
    "def cachipun_improved():\n",
    "    from random import randint\n",
    "    computador=randint(0,2)\n",
    "    try:\n",
    "        player=dict_cachipun[input(\"¿piedra papel o tijera?\")]\n",
    "        if computador==player:\n",
    "            resultado=\"Empate\"\n",
    "        else:\n",
    "            if(computador+1)%3==player:\n",
    "                resultado=\"Gana el Jugador\"\n",
    "            else:\n",
    "                resultado=\"Gana el computador\"\n",
    "        print(\"Jugaste:\",list_cachipun[player])\n",
    "        print(\"Computador juega: \",list_cachipun[computador])\n",
    "        print(\"Resultado:\",resultado)\n",
    "    except(KeyError):\n",
    "        print(\"No sabes jugar!!!\")\n",
    "        "
   ]
  },
  {
   "cell_type": "code",
   "execution_count": 71,
   "id": "6e252f8f",
   "metadata": {},
   "outputs": [
    {
     "name": "stdout",
     "output_type": "stream",
     "text": [
      "¿piedra, papel o tijera?askdjhaskjdasjkdkjsadkjsa\n"
     ]
    },
    {
     "ename": "KeyError",
     "evalue": "'askdjhaskjdasjkdkjsadkjsa'",
     "output_type": "error",
     "traceback": [
      "\u001b[0;31m-------------------------------------------------------------------------\u001b[0m",
      "\u001b[0;31mKeyError\u001b[0m                                Traceback (most recent call last)",
      "\u001b[0;32m<ipython-input-71-afe994ddb510>\u001b[0m in \u001b[0;36m<module>\u001b[0;34m\u001b[0m\n\u001b[0;32m----> 1\u001b[0;31m \u001b[0mcachipun\u001b[0m\u001b[0;34m(\u001b[0m\u001b[0;34m)\u001b[0m\u001b[0;34m\u001b[0m\u001b[0;34m\u001b[0m\u001b[0m\n\u001b[0m",
      "\u001b[0;32m<ipython-input-62-3043b88fc27e>\u001b[0m in \u001b[0;36mcachipun\u001b[0;34m()\u001b[0m\n\u001b[1;32m      2\u001b[0m     \u001b[0;32mfrom\u001b[0m \u001b[0mrandom\u001b[0m \u001b[0;32mimport\u001b[0m \u001b[0mrandint\u001b[0m\u001b[0;34m\u001b[0m\u001b[0;34m\u001b[0m\u001b[0m\n\u001b[1;32m      3\u001b[0m     \u001b[0mcomputador\u001b[0m\u001b[0;34m=\u001b[0m\u001b[0mrandint\u001b[0m\u001b[0;34m(\u001b[0m\u001b[0;36m0\u001b[0m\u001b[0;34m,\u001b[0m\u001b[0;36m2\u001b[0m\u001b[0;34m)\u001b[0m\u001b[0;34m\u001b[0m\u001b[0;34m\u001b[0m\u001b[0m\n\u001b[0;32m----> 4\u001b[0;31m     \u001b[0mplayer\u001b[0m\u001b[0;34m=\u001b[0m\u001b[0mdict_cachipun\u001b[0m\u001b[0;34m[\u001b[0m\u001b[0minput\u001b[0m\u001b[0;34m(\u001b[0m\u001b[0;34m\"¿piedra, papel o tijera?\"\u001b[0m\u001b[0;34m)\u001b[0m\u001b[0;34m]\u001b[0m\u001b[0;34m\u001b[0m\u001b[0;34m\u001b[0m\u001b[0m\n\u001b[0m\u001b[1;32m      5\u001b[0m     \u001b[0;32mif\u001b[0m \u001b[0mcomputador\u001b[0m\u001b[0;34m==\u001b[0m\u001b[0mplayer\u001b[0m\u001b[0;34m:\u001b[0m\u001b[0;34m\u001b[0m\u001b[0;34m\u001b[0m\u001b[0m\n\u001b[1;32m      6\u001b[0m         \u001b[0mresultado\u001b[0m\u001b[0;34m=\u001b[0m\u001b[0;34m\"EMPATE\"\u001b[0m\u001b[0;34m\u001b[0m\u001b[0;34m\u001b[0m\u001b[0m\n",
      "\u001b[0;31mKeyError\u001b[0m: 'askdjhaskjdasjkdkjsadkjsa'"
     ]
    }
   ],
   "source": [
    "cachipun()"
   ]
  },
  {
   "cell_type": "code",
   "execution_count": 72,
   "id": "d394a8fc",
   "metadata": {},
   "outputs": [
    {
     "name": "stdout",
     "output_type": "stream",
     "text": [
      "¿piedra papel o tijera?ajkdkjsaddkjsajkdsa\n",
      "No sabes jugar!!!\n"
     ]
    }
   ],
   "source": [
    "cachipun_improved()"
   ]
  },
  {
   "cell_type": "code",
   "execution_count": 74,
   "id": "231871d5",
   "metadata": {},
   "outputs": [
    {
     "name": "stdout",
     "output_type": "stream",
     "text": [
      "¿piedra papel o tijera?tijera\n",
      "Jugaste: tijera\n",
      "Computador juega:  papel\n",
      "Resultado: Gana el Jugador\n",
      "Seguimos?si\n",
      "¿piedra papel o tijera?asjkdjkasdjkasd\n",
      "No sabes jugar!!!\n",
      "Seguimos?asjdjasjasd\n",
      "Respuesta incorrecta, después jugamos\n"
     ]
    }
   ],
   "source": [
    "jugar={'si':1,'no':0}\n",
    "continuar=1\n",
    "while(continuar==1):\n",
    "    cachipun_improved()\n",
    "    try:\n",
    "        continuar=int(jugar[input(\"Seguimos?\")])\n",
    "    except(KeyError):\n",
    "        print(\"Respuesta incorrecta, después jugamos\")\n",
    "        break"
   ]
  },
  {
   "cell_type": "code",
   "execution_count": 75,
   "id": "31d45630",
   "metadata": {},
   "outputs": [],
   "source": [
    "def cachipun_forever():\n",
    "    jugar={'si':1,'no':0}\n",
    "    continuar=1\n",
    "    while(continuar==1):\n",
    "        cachipun_improved()\n",
    "        try:\n",
    "            continuar=int(jugar[input(\"Seguimos?\")])\n",
    "        except(KeyError):\n",
    "            print(\"Respuesta incorrecta, probemos de nuevo\")\n",
    "            "
   ]
  },
  {
   "cell_type": "code",
   "execution_count": 76,
   "id": "4bb3d1b4",
   "metadata": {},
   "outputs": [
    {
     "name": "stdout",
     "output_type": "stream",
     "text": [
      "¿piedra papel o tijera?tijera\n",
      "Jugaste: tijera\n",
      "Computador juega:  tijera\n",
      "Resultado: Empate\n",
      "Seguimos?askjdasjdasjkdaskjdjkasd\n",
      "Respuesta incorrecta, probemos de nuevo\n",
      "¿piedra papel o tijera?aksjdjkasdkjasd\n",
      "No sabes jugar!!!\n",
      "Seguimos?ansiasjdasiujdasjk\n",
      "Respuesta incorrecta, probemos de nuevo\n",
      "¿piedra papel o tijera?kakaka\n",
      "No sabes jugar!!!\n",
      "Seguimos?no\n"
     ]
    }
   ],
   "source": [
    "cachipun_forever()"
   ]
  },
  {
   "cell_type": "code",
   "execution_count": null,
   "id": "168cbe7b",
   "metadata": {},
   "outputs": [],
   "source": []
  }
 ],
 "metadata": {
  "kernelspec": {
   "display_name": "Python 3",
   "language": "python",
   "name": "python3"
  },
  "language_info": {
   "codemirror_mode": {
    "name": "ipython",
    "version": 3
   },
   "file_extension": ".py",
   "mimetype": "text/x-python",
   "name": "python",
   "nbconvert_exporter": "python",
   "pygments_lexer": "ipython3",
   "version": "3.8.8"
  }
 },
 "nbformat": 4,
 "nbformat_minor": 5
}
